{
 "cells": [
  {
   "cell_type": "code",
   "execution_count": 5,
   "id": "ea6aa322-db06-4156-a4bb-d7af4ac74380",
   "metadata": {
    "scrolled": true
   },
   "outputs": [
    {
     "name": "stdout",
     "output_type": "stream",
     "text": [
      "Looking in indexes: https://artifactory.f.bbg/artifactory/api/pypi/python-proxy-pypi/simple\n",
      "Collecting seaborn\n",
      "  Downloading https://artifactory.f.bbg/artifactory/api/pypi/python-proxy-pypi/packages/packages/83/11/00d3c3dfc25ad54e731d91449895a79e4bf2384dc3ac01809010ba88f6d5/seaborn-0.13.2-py3-none-any.whl (294 kB)\n",
      "Requirement already satisfied: numpy!=1.24.0,>=1.20 in /srv/apps/python/env_giskard_3.11/lib/python3.10/site-packages (from seaborn) (1.26.4)\n",
      "Requirement already satisfied: pandas>=1.2 in /srv/apps/python/env_giskard_3.11/lib/python3.10/site-packages (from seaborn) (2.2.3)\n",
      "Requirement already satisfied: matplotlib!=3.6.1,>=3.4 in /srv/apps/python/env_giskard_3.11/lib/python3.10/site-packages (from seaborn) (3.10.5)\n",
      "Requirement already satisfied: contourpy>=1.0.1 in /srv/apps/python/env_giskard_3.11/lib/python3.10/site-packages (from matplotlib!=3.6.1,>=3.4->seaborn) (1.3.2)\n",
      "Requirement already satisfied: cycler>=0.10 in /srv/apps/python/env_giskard_3.11/lib/python3.10/site-packages (from matplotlib!=3.6.1,>=3.4->seaborn) (0.12.1)\n",
      "Requirement already satisfied: fonttools>=4.22.0 in /srv/apps/python/env_giskard_3.11/lib/python3.10/site-packages (from matplotlib!=3.6.1,>=3.4->seaborn) (4.59.1)\n",
      "Requirement already satisfied: kiwisolver>=1.3.1 in /srv/apps/python/env_giskard_3.11/lib/python3.10/site-packages (from matplotlib!=3.6.1,>=3.4->seaborn) (1.4.9)\n",
      "Requirement already satisfied: packaging>=20.0 in /srv/apps/python/env_giskard_3.11/lib/python3.10/site-packages (from matplotlib!=3.6.1,>=3.4->seaborn) (24.2)\n",
      "Requirement already satisfied: pillow>=8 in /srv/apps/python/env_giskard_3.11/lib/python3.10/site-packages (from matplotlib!=3.6.1,>=3.4->seaborn) (11.3.0)\n",
      "Requirement already satisfied: pyparsing>=2.3.1 in /srv/apps/python/env_giskard_3.11/lib/python3.10/site-packages (from matplotlib!=3.6.1,>=3.4->seaborn) (3.2.3)\n",
      "Requirement already satisfied: python-dateutil>=2.7 in /srv/apps/python/env_giskard_3.11/lib/python3.10/site-packages (from matplotlib!=3.6.1,>=3.4->seaborn) (2.9.0.post0)\n",
      "Requirement already satisfied: pytz>=2020.1 in /srv/apps/python/env_giskard_3.11/lib/python3.10/site-packages (from pandas>=1.2->seaborn) (2024.2)\n",
      "Requirement already satisfied: tzdata>=2022.7 in /srv/apps/python/env_giskard_3.11/lib/python3.10/site-packages (from pandas>=1.2->seaborn) (2024.2)\n",
      "Requirement already satisfied: six>=1.5 in /srv/apps/python/env_giskard_3.11/lib/python3.10/site-packages (from python-dateutil>=2.7->matplotlib!=3.6.1,>=3.4->seaborn) (1.17.0)\n",
      "Installing collected packages: seaborn\n",
      "Successfully installed seaborn-0.13.2\n"
     ]
    }
   ],
   "source": [
    "!pip install seaborn"
   ]
  },
  {
   "cell_type": "code",
   "execution_count": 13,
   "id": "dec51a50-1d03-457b-9785-3b1862d930a9",
   "metadata": {},
   "outputs": [
    {
     "name": "stdout",
     "output_type": "stream",
     "text": [
      "wmt14.en-fr.joined-dict.transformer\n"
     ]
    }
   ],
   "source": [
    "!ls /srv/models"
   ]
  },
  {
   "cell_type": "code",
   "execution_count": 1,
   "id": "68495c47-d840-4d8a-a4a8-b75e041bcbca",
   "metadata": {
    "scrolled": true
   },
   "outputs": [
    {
     "data": {
      "application/vnd.jupyter.widget-view+json": {
       "model_id": "3f8fe0fc09e44899b3a4af671fcfe313",
       "version_major": 2,
       "version_minor": 0
      },
      "text/plain": [
       "Fetching 28 files:   0%|          | 0/28 [00:00<?, ?it/s]"
      ]
     },
     "metadata": {},
     "output_type": "display_data"
    },
    {
     "data": {
      "application/vnd.jupyter.widget-view+json": {
       "model_id": "d087e8239cc14173a3c23c9170a65376",
       "version_major": 2,
       "version_minor": 0
      },
      "text/plain": [
       "(…)5ae72e/config_sentence_transformers.json:   0%|          | 0.00/122 [00:00<?, ?B/s]"
      ]
     },
     "metadata": {},
     "output_type": "display_data"
    },
    {
     "data": {
      "application/vnd.jupyter.widget-view+json": {
       "model_id": "54c0439f3f294597884181d3f03744af",
       "version_major": 2,
       "version_minor": 0
      },
      "text/plain": [
       "(…)2efdd961321abdb4782b15ae72e/modules.json:   0%|          | 0.00/229 [00:00<?, ?B/s]"
      ]
     },
     "metadata": {},
     "output_type": "display_data"
    },
    {
     "data": {
      "application/vnd.jupyter.widget-view+json": {
       "model_id": "4429dd7b1d9149ab8bc323cd38b00a68",
       "version_major": 2,
       "version_minor": 0
      },
      "text/plain": [
       "(…)a2efdd961321abdb4782b15ae72e/config.json:   0%|          | 0.00/645 [00:00<?, ?B/s]"
      ]
     },
     "metadata": {},
     "output_type": "display_data"
    },
    {
     "data": {
      "application/vnd.jupyter.widget-view+json": {
       "model_id": "2cf1b8873e8e4249b9819a6955081122",
       "version_major": 2,
       "version_minor": 0
      },
      "text/plain": [
       "(…)21abdb4782b15ae72e/1_Pooling/config.json:   0%|          | 0.00/190 [00:00<?, ?B/s]"
      ]
     },
     "metadata": {},
     "output_type": "display_data"
    },
    {
     "data": {
      "application/vnd.jupyter.widget-view+json": {
       "model_id": "54f9ebd84cd6418e94c51ae5b87eed0a",
       "version_major": 2,
       "version_minor": 0
      },
      "text/plain": [
       "(…)fdd961321abdb4782b15ae72e/.gitattributes:   0%|          | 0.00/1.02k [00:00<?, ?B/s]"
      ]
     },
     "metadata": {},
     "output_type": "display_data"
    },
    {
     "data": {
      "application/vnd.jupyter.widget-view+json": {
       "model_id": "dd882df4fd5c4ee388c2c87cac2c55cf",
       "version_major": 2,
       "version_minor": 0
      },
      "text/plain": [
       "(…)0fa2efdd961321abdb4782b15ae72e/README.md:   0%|          | 0.00/3.89k [00:00<?, ?B/s]"
      ]
     },
     "metadata": {},
     "output_type": "display_data"
    },
    {
     "data": {
      "application/vnd.jupyter.widget-view+json": {
       "model_id": "b47b4dd6c93b43c6a6b80f4871a7751f",
       "version_major": 2,
       "version_minor": 0
      },
      "text/plain": [
       "(…)782b15ae72e/onnx/model_qint8_avx512.onnx:   0%|          | 0.00/118M [00:00<?, ?B/s]"
      ]
     },
     "metadata": {},
     "output_type": "display_data"
    },
    {
     "data": {
      "application/vnd.jupyter.widget-view+json": {
       "model_id": "4bcb0728d73042498d8b4e70a3c2217f",
       "version_major": 2,
       "version_minor": 0
      },
      "text/plain": [
       "(…)4782b15ae72e/onnx/model_qint8_arm64.onnx:   0%|          | 0.00/118M [00:00<?, ?B/s]"
      ]
     },
     "metadata": {},
     "output_type": "display_data"
    },
    {
     "data": {
      "application/vnd.jupyter.widget-view+json": {
       "model_id": "ec1dd259639041018d2159f4f40eb74e",
       "version_major": 2,
       "version_minor": 0
      },
      "text/plain": [
       "(…)61321abdb4782b15ae72e/onnx/model_O4.onnx:   0%|          | 0.00/235M [00:00<?, ?B/s]"
      ]
     },
     "metadata": {},
     "output_type": "display_data"
    },
    {
     "data": {
      "application/vnd.jupyter.widget-view+json": {
       "model_id": "9c76343db55241f9ac35bf4110b3f91d",
       "version_major": 2,
       "version_minor": 0
      },
      "text/plain": [
       "(…)5ae72e/onnx/model_qint8_avx512_vnni.onnx:   0%|          | 0.00/118M [00:00<?, ?B/s]"
      ]
     },
     "metadata": {},
     "output_type": "display_data"
    },
    {
     "data": {
      "application/vnd.jupyter.widget-view+json": {
       "model_id": "16f55f3ec5c1481797aa1c9cf5e7b8c4",
       "version_major": 2,
       "version_minor": 0
      },
      "text/plain": [
       "(…)4782b15ae72e/onnx/model_quint8_avx2.onnx:   0%|          | 0.00/118M [00:00<?, ?B/s]"
      ]
     },
     "metadata": {},
     "output_type": "display_data"
    },
    {
     "data": {
      "application/vnd.jupyter.widget-view+json": {
       "model_id": "4880620174bd4fe784981eca09477400",
       "version_major": 2,
       "version_minor": 0
      },
      "text/plain": [
       "(…)61321abdb4782b15ae72e/onnx/model_O3.onnx:   0%|          | 0.00/470M [00:00<?, ?B/s]"
      ]
     },
     "metadata": {},
     "output_type": "display_data"
    },
    {
     "data": {
      "application/vnd.jupyter.widget-view+json": {
       "model_id": "eea22dd49ee94fec92698dba175db429",
       "version_major": 2,
       "version_minor": 0
      },
      "text/plain": [
       "(…)4782b15ae72e/openvino/openvino_model.xml:   0%|          | 0.00/399k [00:00<?, ?B/s]"
      ]
     },
     "metadata": {},
     "output_type": "display_data"
    },
    {
     "data": {
      "application/vnd.jupyter.widget-view+json": {
       "model_id": "04af65fee6e5424ebe813e0441acd382",
       "version_major": 2,
       "version_minor": 0
      },
      "text/plain": [
       "(…)61321abdb4782b15ae72e/onnx/model_O1.onnx:   0%|          | 0.00/470M [00:00<?, ?B/s]"
      ]
     },
     "metadata": {},
     "output_type": "display_data"
    },
    {
     "data": {
      "application/vnd.jupyter.widget-view+json": {
       "model_id": "fd40d0c9dfb7413baf72a696e1703a2d",
       "version_major": 2,
       "version_minor": 0
      },
      "text/plain": [
       "(…)dd961321abdb4782b15ae72e/onnx/model.onnx:   0%|          | 0.00/470M [00:00<?, ?B/s]"
      ]
     },
     "metadata": {},
     "output_type": "display_data"
    },
    {
     "data": {
      "application/vnd.jupyter.widget-view+json": {
       "model_id": "b77af42e5b41433db8c8aa8d8c22a74e",
       "version_major": 2,
       "version_minor": 0
      },
      "text/plain": [
       "(…)61321abdb4782b15ae72e/onnx/model_O2.onnx:   0%|          | 0.00/470M [00:00<?, ?B/s]"
      ]
     },
     "metadata": {},
     "output_type": "display_data"
    },
    {
     "data": {
      "application/vnd.jupyter.widget-view+json": {
       "model_id": "248d3153b74f41b6a08960983e7a75ed",
       "version_major": 2,
       "version_minor": 0
      },
      "text/plain": [
       "(…)nvino/openvino_model_qint8_quantized.bin:   0%|          | 0.00/119M [00:00<?, ?B/s]"
      ]
     },
     "metadata": {},
     "output_type": "display_data"
    },
    {
     "data": {
      "application/vnd.jupyter.widget-view+json": {
       "model_id": "59d85da2a9c7481b93e95cae6865574c",
       "version_major": 2,
       "version_minor": 0
      },
      "text/plain": [
       "(…)nvino/openvino_model_qint8_quantized.xml:   0%|          | 0.00/709k [00:00<?, ?B/s]"
      ]
     },
     "metadata": {},
     "output_type": "display_data"
    },
    {
     "data": {
      "application/vnd.jupyter.widget-view+json": {
       "model_id": "c83e0c2cf0cb4c018b67262ceef7d46d",
       "version_major": 2,
       "version_minor": 0
      },
      "text/plain": [
       "(…)961321abdb4782b15ae72e/model.safetensors:   0%|          | 0.00/471M [00:00<?, ?B/s]"
      ]
     },
     "metadata": {},
     "output_type": "display_data"
    },
    {
     "data": {
      "application/vnd.jupyter.widget-view+json": {
       "model_id": "ab0f14f0f66b4d6ba09f123c783dc252",
       "version_major": 2,
       "version_minor": 0
      },
      "text/plain": [
       "(…)db4782b15ae72e/sentence_bert_config.json:   0%|          | 0.00/53.0 [00:00<?, ?B/s]"
      ]
     },
     "metadata": {},
     "output_type": "display_data"
    },
    {
     "data": {
      "application/vnd.jupyter.widget-view+json": {
       "model_id": "62fab5a11e074798b056c63ba68425b6",
       "version_major": 2,
       "version_minor": 0
      },
      "text/plain": [
       "(…)abdb4782b15ae72e/sentencepiece.bpe.model:   0%|          | 0.00/5.07M [00:00<?, ?B/s]"
      ]
     },
     "metadata": {},
     "output_type": "display_data"
    },
    {
     "data": {
      "application/vnd.jupyter.widget-view+json": {
       "model_id": "7b3c6012cafd404782debf5de73c48f0",
       "version_major": 2,
       "version_minor": 0
      },
      "text/plain": [
       "(…)abdb4782b15ae72e/special_tokens_map.json:   0%|          | 0.00/239 [00:00<?, ?B/s]"
      ]
     },
     "metadata": {},
     "output_type": "display_data"
    },
    {
     "data": {
      "application/vnd.jupyter.widget-view+json": {
       "model_id": "dea099e0351b488d9c38d4990b059ff6",
       "version_major": 2,
       "version_minor": 0
      },
      "text/plain": [
       "(…)4782b15ae72e/openvino/openvino_model.bin:   0%|          | 0.00/470M [00:00<?, ?B/s]"
      ]
     },
     "metadata": {},
     "output_type": "display_data"
    },
    {
     "data": {
      "application/vnd.jupyter.widget-view+json": {
       "model_id": "9d226660e24f48adbebbac5d9c4e2b4a",
       "version_major": 2,
       "version_minor": 0
      },
      "text/plain": [
       "(…)961321abdb4782b15ae72e/pytorch_model.bin:   0%|          | 0.00/471M [00:00<?, ?B/s]"
      ]
     },
     "metadata": {},
     "output_type": "display_data"
    },
    {
     "data": {
      "application/vnd.jupyter.widget-view+json": {
       "model_id": "351d8240a08c425c9d9348e35a9f859b",
       "version_major": 2,
       "version_minor": 0
      },
      "text/plain": [
       "(…)fdd961321abdb4782b15ae72e/tokenizer.json:   0%|          | 0.00/9.08M [00:00<?, ?B/s]"
      ]
     },
     "metadata": {},
     "output_type": "display_data"
    },
    {
     "data": {
      "application/vnd.jupyter.widget-view+json": {
       "model_id": "fb7e7682769345b09734998093656374",
       "version_major": 2,
       "version_minor": 0
      },
      "text/plain": [
       "(…)21abdb4782b15ae72e/tokenizer_config.json:   0%|          | 0.00/480 [00:00<?, ?B/s]"
      ]
     },
     "metadata": {},
     "output_type": "display_data"
    },
    {
     "data": {
      "application/vnd.jupyter.widget-view+json": {
       "model_id": "7740304ff738475ca27014caebc3c189",
       "version_major": 2,
       "version_minor": 0
      },
      "text/plain": [
       "(…)2efdd961321abdb4782b15ae72e/unigram.json:   0%|          | 0.00/14.8M [00:00<?, ?B/s]"
      ]
     },
     "metadata": {},
     "output_type": "display_data"
    },
    {
     "data": {
      "application/vnd.jupyter.widget-view+json": {
       "model_id": "60df302da45c4c7eae6bc5ae0ab40f84",
       "version_major": 2,
       "version_minor": 0
      },
      "text/plain": [
       "(…)a2efdd961321abdb4782b15ae72e/tf_model.h5:   0%|          | 0.00/471M [00:00<?, ?B/s]"
      ]
     },
     "metadata": {},
     "output_type": "display_data"
    }
   ],
   "source": [
    "from download_huggingface import download_huggingface_model\n",
    "download_huggingface_model(\n",
    "    \"sentence-transformers/paraphrase-multilingual-MiniLM-L12-v2\",\n",
    "    local_dir=\"/srv/models\",\n",
    "    cache_dir=\"/srv/models/.cache\",\n",
    "    force_download=False,\n",
    ")"
   ]
  },
  {
   "cell_type": "code",
   "execution_count": 8,
   "id": "93c236b1-1dc6-4c09-b425-edd1a2f438cd",
   "metadata": {},
   "outputs": [],
   "source": [
    "import pandas as pd\n",
    "import numpy as np\n",
    "from sklearn.feature_extraction.text import TfidfVectorizer\n",
    "from sklearn.cluster import KMeans\n",
    "from sklearn.metrics.pairwise import cosine_similarity\n",
    "from sentence_transformers import SentenceTransformer\n",
    "import matplotlib.pyplot as plt\n",
    "import seaborn as sns\n",
    "from typing import List, Tuple\n",
    "import re\n",
    "import warnings\n",
    "warnings.filterwarnings('ignore')\n",
    "\n",
    "class TextClusterer:\n",
    "    def __init__(self, target_cluster_size: int = 200, embedding_model: str = 'paraphrase-multilingual-MiniLM-L12-v2'):\n",
    "        \"\"\"\n",
    "        Initialiseur du clusterer de texte\n",
    "        \n",
    "        Args:\n",
    "            target_cluster_size: Taille cible pour chaque cluster\n",
    "            embedding_model: Modèle d'embedding à utiliser\n",
    "        \"\"\"\n",
    "        self.target_cluster_size = target_cluster_size\n",
    "        self.embedding_model = embedding_model\n",
    "        self.model = None\n",
    "        self.embeddings = None\n",
    "        self.clusters = None\n",
    "        self.data = None\n",
    "        \n",
    "    def load_data(self, file_path: str, text_column: str = None) -> pd.DataFrame:\n",
    "        \"\"\"\n",
    "        Charge les données depuis un fichier Excel\n",
    "        \n",
    "        Args:\n",
    "            file_path: Chemin vers le fichier Excel\n",
    "            text_column: Nom de la colonne contenant le texte (si None, détection auto)\n",
    "        \n",
    "        Returns:\n",
    "            DataFrame pandas avec les données\n",
    "        \"\"\"\n",
    "        print(f\"Chargement des données depuis {file_path}...\")\n",
    "        self.data = pd.read_excel(file_path)\n",
    "        \n",
    "        # Détection automatique de la colonne de texte si non spécifiée\n",
    "        if text_column is None:\n",
    "            text_columns = []\n",
    "            for col in self.data.columns:\n",
    "                if self.data[col].dtype == 'object':\n",
    "                    # Vérifier si c'est une colonne de texte (longueur moyenne > 10)\n",
    "                    avg_length = self.data[col].astype(str).str.len().mean()\n",
    "                    if avg_length > 10:\n",
    "                        text_columns.append((col, avg_length))\n",
    "            \n",
    "            if text_columns:\n",
    "                text_column = max(text_columns, key=lambda x: x[1])[0]\n",
    "                print(f\"Colonne de texte détectée automatiquement: {text_column}\")\n",
    "            else:\n",
    "                raise ValueError(\"Aucune colonne de texte détectée. Spécifiez manuellement text_column.\")\n",
    "        \n",
    "        self.text_column = text_column\n",
    "        \n",
    "        # Nettoyage des données\n",
    "        self.data = self.data.dropna(subset=[text_column])\n",
    "        self.data[text_column] = self.data[text_column].astype(str)\n",
    "        \n",
    "        print(f\"Données chargées: {len(self.data)} lignes\")\n",
    "        return self.data\n",
    "    \n",
    "    def preprocess_text(self, text: str) -> str:\n",
    "        \"\"\"\n",
    "        Préprocessing basique du texte\n",
    "        \n",
    "        Args:\n",
    "            text: Texte à nettoyer\n",
    "            \n",
    "        Returns:\n",
    "            Texte nettoyé\n",
    "        \"\"\"\n",
    "        # Suppression des caractères spéciaux et normalisation\n",
    "        text = re.sub(r'\\s+', ' ', text)  # Espaces multiples\n",
    "        text = text.strip()\n",
    "        return text\n",
    "    \n",
    "    def create_embeddings(self, use_sentence_transformers: bool = True) -> np.ndarray:\n",
    "        \"\"\"\n",
    "        Crée les embeddings pour le texte\n",
    "        \n",
    "        Args:\n",
    "            use_sentence_transformers: Si True, utilise Sentence-BERT, sinon TF-IDF\n",
    "            \n",
    "        Returns:\n",
    "            Matrice d'embeddings\n",
    "        \"\"\"\n",
    "        texts = [self.preprocess_text(text) for text in self.data[self.text_column]]\n",
    "        \n",
    "        if use_sentence_transformers:\n",
    "            print(f\"Création des embeddings avec Sentence-BERT ({self.embedding_model})...\")\n",
    "            try:\n",
    "                self.model = SentenceTransformer(self.embedding_model)\n",
    "                self.embeddings = self.model.encode(texts, show_progress_bar=True)\n",
    "            except Exception as e:\n",
    "                print(f\"Erreur avec Sentence-BERT: {e}\")\n",
    "                print(\"Utilisation de TF-IDF à la place...\")\n",
    "                use_sentence_transformers = False\n",
    "        \n",
    "        if not use_sentence_transformers:\n",
    "            print(\"Création des embeddings avec TF-IDF...\")\n",
    "            vectorizer = TfidfVectorizer(\n",
    "                max_features=1000,\n",
    "                stop_words='english',\n",
    "                ngram_range=(1, 2),\n",
    "                min_df=2,\n",
    "                max_df=0.95\n",
    "            )\n",
    "            self.embeddings = vectorizer.fit_transform(texts).toarray()\n",
    "            self.model = vectorizer\n",
    "        \n",
    "        print(f\"Embeddings créés: {self.embeddings.shape}\")\n",
    "        return self.embeddings\n",
    "    \n",
    "    def estimate_optimal_clusters(self) -> int:\n",
    "        \"\"\"\n",
    "        Estime le nombre optimal de clusters en fonction de la taille cible\n",
    "        \n",
    "        Returns:\n",
    "            Nombre optimal de clusters\n",
    "        \"\"\"\n",
    "        n_samples = len(self.data)\n",
    "        n_clusters = max(1, n_samples // self.target_cluster_size)\n",
    "        \n",
    "        # Ajustement pour éviter des clusters trop petits\n",
    "        if n_samples % self.target_cluster_size > self.target_cluster_size * 0.5:\n",
    "            n_clusters += 1\n",
    "        \n",
    "        print(f\"Nombre de clusters estimé: {n_clusters} (pour ~{self.target_cluster_size} éléments par cluster)\")\n",
    "        return n_clusters\n",
    "    \n",
    "    def perform_clustering(self, n_clusters: int = None) -> np.ndarray:\n",
    "        \"\"\"\n",
    "        Effectue le clustering\n",
    "        \n",
    "        Args:\n",
    "            n_clusters: Nombre de clusters (si None, estimation automatique)\n",
    "            \n",
    "        Returns:\n",
    "            Labels des clusters\n",
    "        \"\"\"\n",
    "        if self.embeddings is None:\n",
    "            raise ValueError(\"Les embeddings doivent être créés avant le clustering\")\n",
    "        \n",
    "        if n_clusters is None:\n",
    "            n_clusters = self.estimate_optimal_clusters()\n",
    "        \n",
    "        print(f\"Clustering avec {n_clusters} clusters...\")\n",
    "        \n",
    "        # Utilisation de KMeans avec plusieurs initialisations\n",
    "        kmeans = KMeans(\n",
    "            n_clusters=n_clusters,\n",
    "            n_init=10,\n",
    "            random_state=42,\n",
    "            max_iter=300\n",
    "        )\n",
    "        \n",
    "        self.clusters = kmeans.fit_predict(self.embeddings)\n",
    "        \n",
    "        # Ajout des labels au DataFrame\n",
    "        self.data['cluster'] = self.clusters\n",
    "        \n",
    "        # Affichage des statistiques\n",
    "        cluster_sizes = pd.Series(self.clusters).value_counts().sort_index()\n",
    "        print(\"\\nTailles des clusters:\")\n",
    "        for cluster_id, size in cluster_sizes.items():\n",
    "            print(f\"Cluster {cluster_id}: {size} éléments\")\n",
    "        \n",
    "        print(f\"\\nStatistiques:\")\n",
    "        print(f\"Taille moyenne: {cluster_sizes.mean():.1f}\")\n",
    "        print(f\"Écart-type: {cluster_sizes.std():.1f}\")\n",
    "        print(f\"Min: {cluster_sizes.min()}, Max: {cluster_sizes.max()}\")\n",
    "        \n",
    "        return self.clusters\n",
    "    \n",
    "    def get_cluster_representatives(self, n_representatives: int = 5) -> dict:\n",
    "        \"\"\"\n",
    "        Trouve les textes les plus représentatifs de chaque cluster\n",
    "        \n",
    "        Args:\n",
    "            n_representatives: Nombre de représentants par cluster\n",
    "            \n",
    "        Returns:\n",
    "            Dictionnaire avec les représentants par cluster\n",
    "        \"\"\"\n",
    "        if self.clusters is None:\n",
    "            raise ValueError(\"Le clustering doit être effectué avant de trouver les représentants\")\n",
    "        \n",
    "        representatives = {}\n",
    "        \n",
    "        for cluster_id in np.unique(self.clusters):\n",
    "            cluster_mask = self.clusters == cluster_id\n",
    "            cluster_embeddings = self.embeddings[cluster_mask]\n",
    "            cluster_texts = self.data[cluster_mask][self.text_column].tolist()\n",
    "            cluster_indices = self.data[cluster_mask].index.tolist()\n",
    "            \n",
    "            # Calcul du centroïde du cluster\n",
    "            centroid = np.mean(cluster_embeddings, axis=0)\n",
    "            \n",
    "            # Calcul des distances au centroïde\n",
    "            distances = cosine_similarity([centroid], cluster_embeddings)[0]\n",
    "            \n",
    "            # Sélection des textes les plus proches du centroïde\n",
    "            closest_indices = np.argsort(distances)[::-1][:n_representatives]\n",
    "            \n",
    "            representatives[cluster_id] = [\n",
    "                {\n",
    "                    'index': cluster_indices[i],\n",
    "                    'text': cluster_texts[i],\n",
    "                    'similarity': distances[i]\n",
    "                }\n",
    "                for i in closest_indices\n",
    "            ]\n",
    "        \n",
    "        return representatives\n",
    "    \n",
    "    def save_results(self, output_file: str = 'clustered_verbatims.xlsx') -> None:\n",
    "        \"\"\"\n",
    "        Sauvegarde les résultats dans un fichier Excel\n",
    "        \n",
    "        Args:\n",
    "            output_file: Nom du fichier de sortie\n",
    "        \"\"\"\n",
    "        if self.clusters is None:\n",
    "            raise ValueError(\"Le clustering doit être effectué avant la sauvegarde\")\n",
    "        \n",
    "        print(f\"Sauvegarde des résultats dans {output_file}...\")\n",
    "        \n",
    "        # Création de plusieurs feuilles\n",
    "        with pd.ExcelWriter(output_file, engine='openpyxl') as writer:\n",
    "            # Feuille principale avec tous les résultats\n",
    "            self.data.to_excel(writer, sheet_name='Résultats_clustering', index=False)\n",
    "            \n",
    "            # Feuille avec les statistiques par cluster\n",
    "            cluster_stats = self.data.groupby('cluster').agg({\n",
    "                self.text_column: ['count', lambda x: x.str.len().mean()]\n",
    "            }).round(2)\n",
    "            cluster_stats.columns = ['Nombre_éléments', 'Longueur_moyenne_texte']\n",
    "            cluster_stats.to_excel(writer, sheet_name='Statistiques_clusters')\n",
    "            \n",
    "            # Feuille avec les représentants\n",
    "            representatives = self.get_cluster_representatives()\n",
    "            rep_data = []\n",
    "            for cluster_id, reps in representatives.items():\n",
    "                for i, rep in enumerate(reps):\n",
    "                    rep_data.append({\n",
    "                        'Cluster': cluster_id,\n",
    "                        'Rang': i + 1,\n",
    "                        'Index_original': rep['index'],\n",
    "                        'Similarité': rep['similarity'],\n",
    "                        'Texte': rep['text']\n",
    "                    })\n",
    "            \n",
    "            rep_df = pd.DataFrame(rep_data)\n",
    "            rep_df.to_excel(writer, sheet_name='Représentants_clusters', index=False)\n",
    "        \n",
    "        print(f\"Résultats sauvegardés dans {output_file}\")\n",
    "    \n",
    "    def plot_cluster_distribution(self) -> None:\n",
    "        \"\"\"\n",
    "        Affiche la distribution des tailles de clusters\n",
    "        \"\"\"\n",
    "        if self.clusters is None:\n",
    "            raise ValueError(\"Le clustering doit être effectué avant la visualisation\")\n",
    "        \n",
    "        cluster_sizes = pd.Series(self.clusters).value_counts().sort_index()\n",
    "        \n",
    "        plt.figure(figsize=(12, 6))\n",
    "        \n",
    "        # Histogramme des tailles\n",
    "        plt.subplot(1, 2, 1)\n",
    "        cluster_sizes.plot(kind='bar')\n",
    "        plt.title('Taille de chaque cluster')\n",
    "        plt.xlabel('Cluster ID')\n",
    "        plt.ylabel('Nombre d\\'éléments')\n",
    "        plt.xticks(rotation=45)\n",
    "        \n",
    "        # Distribution des tailles\n",
    "        plt.subplot(1, 2, 2)\n",
    "        plt.hist(cluster_sizes.values, bins=20, edgecolor='black')\n",
    "        plt.axvline(self.target_cluster_size, color='red', linestyle='--', \n",
    "                   label=f'Cible: {self.target_cluster_size}')\n",
    "        plt.title('Distribution des tailles de clusters')\n",
    "        plt.xlabel('Taille du cluster')\n",
    "        plt.ylabel('Nombre de clusters')\n",
    "        plt.legend()\n",
    "        \n",
    "        plt.tight_layout()\n",
    "        plt.show()\n",
    "\n",
    "\n",
    "def main():\n",
    "    \"\"\"\n",
    "    Fonction principale pour exécuter le clustering\n",
    "    \"\"\"\n",
    "    # Configuration\n",
    "    FILE_PATH = 'conversation_prod_20250625_20250706_with_categ_llm.xlsx'  # Changez ce chemin selon votre fichier\n",
    "    TARGET_CLUSTER_SIZE = 200\n",
    "    OUTPUT_FILE = 'clustered_conversations.xlsx'\n",
    "    TEXT_COLUMN = 'query_norm'\n",
    "    EMBEDDING_MODEL = '/srv/models/sentence-transformers/paraphrase-multilingual-MiniLM-L12-v2'\n",
    "    # Initialisation du clusterer\n",
    "    clusterer = TextClusterer(target_cluster_size=TARGET_CLUSTER_SIZE, \n",
    "                              embedding_model=EMBEDDING_MODEL\n",
    "                             )\n",
    "    \n",
    "    try:\n",
    "        # 1. Chargement des données\n",
    "        data = clusterer.load_data(FILE_PATH,TEXT_COLUMN)\n",
    "        \n",
    "        # 2. Création des embeddings\n",
    "        embeddings = clusterer.create_embeddings(use_sentence_transformers=True)\n",
    "        \n",
    "        # 3. Clustering\n",
    "        clusters = clusterer.perform_clustering()\n",
    "        \n",
    "        # 4. Sauvegarde des résultats\n",
    "        clusterer.save_results(OUTPUT_FILE)\n",
    "        \n",
    "        # 5. Visualisation (optionnel)\n",
    "        clusterer.plot_cluster_distribution()\n",
    "        \n",
    "        # 6. Affichage de quelques représentants\n",
    "        print(\"\\n\" + \"=\"*50)\n",
    "        print(\"REPRÉSENTANTS DES CLUSTERS\")\n",
    "        print(\"=\"*50)\n",
    "        \n",
    "        representatives = clusterer.get_cluster_representatives(n_representatives=2)\n",
    "        for cluster_id in sorted(representatives.keys())[:5]:  # Affichage des 5 premiers clusters\n",
    "            print(f\"\\nCluster {cluster_id}:\")\n",
    "            for rep in representatives[cluster_id]:\n",
    "                print(f\"  - Similarité {rep['similarity']:.3f}: {rep['text'][:100]}...\")\n",
    "        \n",
    "        print(f\"\\n✅ Clustering terminé avec succès!\")\n",
    "        print(f\"📁 Résultats sauvegardés dans: {OUTPUT_FILE}\")\n",
    "        \n",
    "    except Exception as e:\n",
    "        print(f\"❌ Erreur lors du clustering: {e}\")\n",
    "        import traceback\n",
    "        traceback.print_exc()"
   ]
  },
  {
   "cell_type": "code",
   "execution_count": 9,
   "id": "650ad968-f4d0-468d-8a70-f70468c04324",
   "metadata": {
    "scrolled": true
   },
   "outputs": [
    {
     "name": "stdout",
     "output_type": "stream",
     "text": [
      "Chargement des données depuis conversation_prod_20250625_20250706_with_categ_llm.xlsx...\n",
      "Données chargées: 45452 lignes\n",
      "Création des embeddings avec Sentence-BERT (/srv/models/sentence-transformers/paraphrase-multilingual-MiniLM-L12-v2)...\n"
     ]
    },
    {
     "data": {
      "application/vnd.jupyter.widget-view+json": {
       "model_id": "4e25420c28df4e1db6bb55608f6d29bd",
       "version_major": 2,
       "version_minor": 0
      },
      "text/plain": [
       "Batches:   0%|          | 0/1421 [00:00<?, ?it/s]"
      ]
     },
     "metadata": {},
     "output_type": "display_data"
    },
    {
     "name": "stdout",
     "output_type": "stream",
     "text": [
      "Embeddings créés: (45452, 384)\n",
      "Nombre de clusters estimé: 227 (pour ~200 éléments par cluster)\n",
      "Clustering avec 227 clusters...\n",
      "\n",
      "Tailles des clusters:\n",
      "Cluster 0: 274 éléments\n",
      "Cluster 1: 3997 éléments\n",
      "Cluster 2: 5102 éléments\n",
      "Cluster 3: 490 éléments\n",
      "Cluster 4: 93 éléments\n",
      "Cluster 5: 1481 éléments\n",
      "Cluster 6: 232 éléments\n",
      "Cluster 7: 1506 éléments\n",
      "Cluster 8: 62 éléments\n",
      "Cluster 9: 186 éléments\n",
      "Cluster 10: 302 éléments\n",
      "Cluster 11: 125 éléments\n",
      "Cluster 12: 1606 éléments\n",
      "Cluster 13: 202 éléments\n",
      "Cluster 14: 105 éléments\n",
      "Cluster 15: 107 éléments\n",
      "Cluster 16: 71 éléments\n",
      "Cluster 17: 236 éléments\n",
      "Cluster 18: 104 éléments\n",
      "Cluster 19: 91 éléments\n",
      "Cluster 20: 79 éléments\n",
      "Cluster 21: 76 éléments\n",
      "Cluster 22: 279 éléments\n",
      "Cluster 23: 25 éléments\n",
      "Cluster 24: 89 éléments\n",
      "Cluster 25: 162 éléments\n",
      "Cluster 26: 328 éléments\n",
      "Cluster 27: 97 éléments\n",
      "Cluster 28: 148 éléments\n",
      "Cluster 29: 187 éléments\n",
      "Cluster 30: 252 éléments\n",
      "Cluster 31: 762 éléments\n",
      "Cluster 32: 585 éléments\n",
      "Cluster 33: 132 éléments\n",
      "Cluster 34: 458 éléments\n",
      "Cluster 35: 360 éléments\n",
      "Cluster 36: 64 éléments\n",
      "Cluster 37: 84 éléments\n",
      "Cluster 38: 307 éléments\n",
      "Cluster 39: 245 éléments\n",
      "Cluster 40: 89 éléments\n",
      "Cluster 41: 292 éléments\n",
      "Cluster 42: 246 éléments\n",
      "Cluster 43: 205 éléments\n",
      "Cluster 44: 113 éléments\n",
      "Cluster 45: 130 éléments\n",
      "Cluster 46: 47 éléments\n",
      "Cluster 47: 890 éléments\n",
      "Cluster 48: 40 éléments\n",
      "Cluster 49: 62 éléments\n",
      "Cluster 50: 62 éléments\n",
      "Cluster 51: 487 éléments\n",
      "Cluster 52: 187 éléments\n",
      "Cluster 53: 18 éléments\n",
      "Cluster 54: 217 éléments\n",
      "Cluster 55: 117 éléments\n",
      "Cluster 56: 81 éléments\n",
      "Cluster 57: 149 éléments\n",
      "Cluster 58: 985 éléments\n",
      "Cluster 59: 80 éléments\n",
      "Cluster 60: 160 éléments\n",
      "Cluster 61: 25 éléments\n",
      "Cluster 62: 84 éléments\n",
      "Cluster 63: 120 éléments\n",
      "Cluster 64: 86 éléments\n",
      "Cluster 65: 66 éléments\n",
      "Cluster 66: 72 éléments\n",
      "Cluster 67: 194 éléments\n",
      "Cluster 68: 51 éléments\n",
      "Cluster 69: 203 éléments\n",
      "Cluster 70: 115 éléments\n",
      "Cluster 71: 91 éléments\n",
      "Cluster 72: 298 éléments\n",
      "Cluster 73: 30 éléments\n",
      "Cluster 74: 135 éléments\n",
      "Cluster 75: 210 éléments\n",
      "Cluster 76: 76 éléments\n",
      "Cluster 77: 209 éléments\n",
      "Cluster 78: 60 éléments\n",
      "Cluster 79: 146 éléments\n",
      "Cluster 80: 158 éléments\n",
      "Cluster 81: 113 éléments\n",
      "Cluster 82: 115 éléments\n",
      "Cluster 83: 176 éléments\n",
      "Cluster 84: 48 éléments\n",
      "Cluster 85: 117 éléments\n",
      "Cluster 86: 22 éléments\n",
      "Cluster 87: 19 éléments\n",
      "Cluster 88: 107 éléments\n",
      "Cluster 89: 198 éléments\n",
      "Cluster 90: 88 éléments\n",
      "Cluster 91: 47 éléments\n",
      "Cluster 92: 298 éléments\n",
      "Cluster 93: 323 éléments\n",
      "Cluster 94: 129 éléments\n",
      "Cluster 95: 194 éléments\n",
      "Cluster 96: 37 éléments\n",
      "Cluster 97: 49 éléments\n",
      "Cluster 98: 175 éléments\n",
      "Cluster 99: 30 éléments\n",
      "Cluster 100: 146 éléments\n",
      "Cluster 101: 558 éléments\n",
      "Cluster 102: 26 éléments\n",
      "Cluster 103: 66 éléments\n",
      "Cluster 104: 44 éléments\n",
      "Cluster 105: 30 éléments\n",
      "Cluster 106: 107 éléments\n",
      "Cluster 107: 212 éléments\n",
      "Cluster 108: 82 éléments\n",
      "Cluster 109: 31 éléments\n",
      "Cluster 110: 128 éléments\n",
      "Cluster 111: 34 éléments\n",
      "Cluster 112: 155 éléments\n",
      "Cluster 113: 94 éléments\n",
      "Cluster 114: 55 éléments\n",
      "Cluster 115: 261 éléments\n",
      "Cluster 116: 83 éléments\n",
      "Cluster 117: 14 éléments\n",
      "Cluster 118: 108 éléments\n",
      "Cluster 119: 633 éléments\n",
      "Cluster 120: 122 éléments\n",
      "Cluster 121: 275 éléments\n",
      "Cluster 122: 122 éléments\n",
      "Cluster 123: 103 éléments\n",
      "Cluster 124: 10 éléments\n",
      "Cluster 125: 102 éléments\n",
      "Cluster 126: 145 éléments\n",
      "Cluster 127: 188 éléments\n",
      "Cluster 128: 110 éléments\n",
      "Cluster 129: 297 éléments\n",
      "Cluster 130: 101 éléments\n",
      "Cluster 131: 34 éléments\n",
      "Cluster 132: 40 éléments\n",
      "Cluster 133: 23 éléments\n",
      "Cluster 134: 92 éléments\n",
      "Cluster 135: 568 éléments\n",
      "Cluster 136: 112 éléments\n",
      "Cluster 137: 54 éléments\n",
      "Cluster 138: 49 éléments\n",
      "Cluster 139: 86 éléments\n",
      "Cluster 140: 73 éléments\n",
      "Cluster 141: 79 éléments\n",
      "Cluster 142: 286 éléments\n",
      "Cluster 143: 175 éléments\n",
      "Cluster 144: 148 éléments\n",
      "Cluster 145: 87 éléments\n",
      "Cluster 146: 100 éléments\n",
      "Cluster 147: 130 éléments\n",
      "Cluster 148: 45 éléments\n",
      "Cluster 149: 59 éléments\n",
      "Cluster 150: 76 éléments\n",
      "Cluster 151: 22 éléments\n",
      "Cluster 152: 172 éléments\n",
      "Cluster 153: 24 éléments\n",
      "Cluster 154: 77 éléments\n",
      "Cluster 155: 352 éléments\n",
      "Cluster 156: 58 éléments\n",
      "Cluster 157: 157 éléments\n",
      "Cluster 158: 290 éléments\n",
      "Cluster 159: 112 éléments\n",
      "Cluster 160: 146 éléments\n",
      "Cluster 161: 292 éléments\n",
      "Cluster 162: 83 éléments\n",
      "Cluster 163: 94 éléments\n",
      "Cluster 164: 75 éléments\n",
      "Cluster 165: 82 éléments\n",
      "Cluster 166: 22 éléments\n",
      "Cluster 167: 202 éléments\n",
      "Cluster 168: 194 éléments\n",
      "Cluster 169: 59 éléments\n",
      "Cluster 170: 724 éléments\n",
      "Cluster 171: 25 éléments\n",
      "Cluster 172: 53 éléments\n",
      "Cluster 173: 155 éléments\n",
      "Cluster 174: 193 éléments\n",
      "Cluster 175: 35 éléments\n",
      "Cluster 176: 110 éléments\n",
      "Cluster 177: 60 éléments\n",
      "Cluster 178: 73 éléments\n",
      "Cluster 179: 73 éléments\n",
      "Cluster 180: 170 éléments\n",
      "Cluster 181: 37 éléments\n",
      "Cluster 182: 79 éléments\n",
      "Cluster 183: 43 éléments\n",
      "Cluster 184: 107 éléments\n",
      "Cluster 185: 49 éléments\n",
      "Cluster 186: 49 éléments\n",
      "Cluster 187: 102 éléments\n",
      "Cluster 188: 73 éléments\n",
      "Cluster 189: 27 éléments\n",
      "Cluster 190: 115 éléments\n",
      "Cluster 191: 51 éléments\n",
      "Cluster 192: 73 éléments\n",
      "Cluster 193: 52 éléments\n",
      "Cluster 194: 20 éléments\n",
      "Cluster 195: 108 éléments\n",
      "Cluster 196: 54 éléments\n",
      "Cluster 197: 51 éléments\n",
      "Cluster 198: 83 éléments\n",
      "Cluster 199: 113 éléments\n",
      "Cluster 200: 23 éléments\n",
      "Cluster 201: 207 éléments\n",
      "Cluster 202: 67 éléments\n",
      "Cluster 203: 39 éléments\n",
      "Cluster 204: 110 éléments\n",
      "Cluster 205: 30 éléments\n",
      "Cluster 206: 133 éléments\n",
      "Cluster 207: 63 éléments\n",
      "Cluster 208: 153 éléments\n",
      "Cluster 209: 82 éléments\n",
      "Cluster 210: 67 éléments\n",
      "Cluster 211: 64 éléments\n",
      "Cluster 212: 159 éléments\n",
      "Cluster 213: 20 éléments\n",
      "Cluster 214: 30 éléments\n",
      "Cluster 215: 30 éléments\n",
      "Cluster 216: 119 éléments\n",
      "Cluster 217: 370 éléments\n",
      "Cluster 218: 116 éléments\n",
      "Cluster 219: 81 éléments\n",
      "Cluster 220: 116 éléments\n",
      "Cluster 221: 12 éléments\n",
      "Cluster 222: 18 éléments\n",
      "Cluster 223: 92 éléments\n",
      "Cluster 224: 50 éléments\n",
      "Cluster 225: 426 éléments\n",
      "Cluster 226: 85 éléments\n",
      "\n",
      "Statistiques:\n",
      "Taille moyenne: 200.2\n",
      "Écart-type: 466.6\n",
      "Min: 10, Max: 5102\n",
      "Sauvegarde des résultats dans clustered_conversations.xlsx...\n",
      "Résultats sauvegardés dans clustered_conversations.xlsx\n"
     ]
    },
    {
     "data": {
      "image/png": "[encoded data removed]",
      "text/plain": [
       "<Figure size 1200x600 with 2 Axes>"
      ]
     },
     "metadata": {},
     "output_type": "display_data"
    },
    {
     "name": "stdout",
     "output_type": "stream",
     "text": [
      "\n",
      "==================================================\n",
      "REPRÉSENTANTS DES CLUSTERS\n",
      "==================================================\n",
      "\n",
      "Cluster 0:\n",
      "  - Similarité 0.993: carte bloquee...\n",
      "  - Similarité 0.993: carte bloquee...\n",
      "\n",
      "Cluster 1:\n",
      "  - Similarité 1.000: effectuer virement instantane...\n",
      "  - Similarité 1.000: effectuer virement instantane...\n",
      "\n",
      "Cluster 2:\n",
      "  - Similarité 1.000: augmenter plafonds carte bancaire...\n",
      "  - Similarité 1.000: augmenter plafonds carte bancaire...\n",
      "\n",
      "Cluster 3:\n",
      "  - Similarité 0.930: augmenter plafon...\n",
      "  - Similarité 0.930: augmenter plafon...\n",
      "\n",
      "Cluster 4:\n",
      "  - Similarité 0.917: compte bloquer...\n",
      "  - Similarité 0.917: compte bloquer...\n",
      "\n",
      "✅ Clustering terminé avec succès!\n",
      "📁 Résultats sauvegardés dans: clustered_conversations.xlsx\n"
     ]
    }
   ],
   "source": [
    "main()"
   ]
  },
  {
   "cell_type": "code",
   "execution_count": null,
   "id": "e5b581db-11e0-40ad-bc72-0f90905e681f",
   "metadata": {},
   "outputs": [],
   "source": []
  }
 ],
 "metadata": {
  "kernelspec": {
   "display_name": "Python 3 (ipykernel)",
   "language": "python",
   "name": "python3"
  },
  "language_info": {
   "codemirror_mode": {
    "name": "ipython",
    "version": 3
   },
   "file_extension": ".py",
   "mimetype": "text/x-python",
   "name": "python",
   "nbconvert_exporter": "python",
   "pygments_lexer": "ipython3",
   "version": "3.10.14"
  }
 },
 "nbformat": 4,
 "nbformat_minor": 5
}
